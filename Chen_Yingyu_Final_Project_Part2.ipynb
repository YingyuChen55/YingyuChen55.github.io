{
 "cells": [
  {
   "cell_type": "markdown",
   "id": "intellectual-funds",
   "metadata": {},
   "source": [
    "# Final Part I Written:"
   ]
  },
  {
   "cell_type": "markdown",
   "id": "eligible-comment",
   "metadata": {},
   "source": [
    "## Information about this Dataset \n",
    "* The name of this Dataset is Ramen Rating\n",
    "* I obtained it from Kaggle.\n",
    "* The URL for this dataset is https://www.kaggle.com/residentmario/ramen-ratings\n",
    "* The license of this dataset is Data files © Original Authors.It is an open dataset from Kaggle.\n",
    "* The file is 160 KB. and there are 2580 rows × 7 columns in this dataset.\n"
   ]
  },
  {
   "cell_type": "markdown",
   "id": "boring-astrology",
   "metadata": {},
   "source": [
    "## Characteristics of the Dataset\n",
    "* The dataset is presenting the rating for ramens.\n",
    "* The columns for this dataset are Review #,Brand,Varieties,Styles,Countries,Stars and top Ten.\n",
    "* The data type for Brand,Variety,Style,Countries are nominal, for Stars are quantitative."
   ]
  },
  {
   "cell_type": "markdown",
   "id": "excessive-illinois",
   "metadata": {},
   "source": [
    "## Exploration of the Dataset\n",
    "* I was first interested in visualizing the relationship between rate and different styles of ramen, as well as the average rating among different countries, or the kinds of raman each country has. But for some reason the Stars column are being recognized as string, not integer, so the aggregate mean or sum function do not work this time. \n",
    "\n",
    "* I then use the agg.count function to make visualization for the amount of ramen each style has as well as each country. The graphs are ploted below."
   ]
  },
  {
   "cell_type": "markdown",
   "id": "fundamental-upgrade",
   "metadata": {},
   "source": [
    "# Fianl Part II Written:"
   ]
  },
  {
   "cell_type": "markdown",
   "id": "weighted-origin",
   "metadata": {},
   "source": [
    "## Interactive Visualization\n",
    "* For part two of our final project, I am going to make a linked interactive visualization. Although I tried to cleans the dataset by coding, it does not work, so I just hardcode the string value in the stars column.\n",
    "* In the Dashbord type I created, you can change the style of the visualization. You can also select different fields, for example, country or brand, to see an aggregate present of the data. The plot on the left is the count of the review, you will see the number of reviews group by different fields. The plot on the right, is the mean of the stars, you will see the average rating group by different fields.\n",
    "* By simpling selecting the field you would like to discover and the style you prefer, the linked plot would perform the aggregate count and mean for the ratings.\n",
    "## Other Dataset\n",
    "* In order to better tell a story about this instant food that many people like. \n",
    "*I also found a dataset about cereals https://www.kaggle.com/crawford/80-cereals.\n",
    "*Maybe I can tell a story about how to prepare a fast meal in a busy day from the ramen and cereal dataset."
   ]
  },
  {
   "cell_type": "code",
   "execution_count": 44,
   "id": "painful-quarter",
   "metadata": {},
   "outputs": [],
   "source": [
    "import pandas as pd\n",
    "import matplotlib.pyplot as plt\n",
    "import numpy as np\n",
    "import bqplot\n",
    "import traitlets\n",
    "import ipywidgets\n",
    "import matplotlib\n",
    "%matplotlib inline\n",
    "\n",
    "# Here I import anything I need for this dashboard"
   ]
  },
  {
   "cell_type": "code",
   "execution_count": 37,
   "id": "other-advisory",
   "metadata": {},
   "outputs": [],
   "source": [
    "df = pd.read_csv('ramen-ratings1.csv',\n",
    "                na_values = {'Stars': 0})\n",
    "# As normal, I read the csv file as df using pandas"
   ]
  },
  {
   "cell_type": "code",
   "execution_count": 69,
   "id": "wound-practice",
   "metadata": {},
   "outputs": [],
   "source": [
    "#for x in df['Stars']:\n",
    "#    if x != float or x != int:\n",
    "#        x = -1\n",
    "# did not work"
   ]
  },
  {
   "cell_type": "code",
   "execution_count": 70,
   "id": "electrical-pavilion",
   "metadata": {},
   "outputs": [
    {
     "data": {
      "text/plain": [
       "0       3.75\n",
       "1       1.00\n",
       "2       2.25\n",
       "3       2.75\n",
       "4       3.75\n",
       "        ... \n",
       "2572    3.50\n",
       "2573    1.00\n",
       "2574    2.00\n",
       "2575    2.00\n",
       "2576    0.50\n",
       "Name: Stars, Length: 2577, dtype: float64"
      ]
     },
     "execution_count": 70,
     "metadata": {},
     "output_type": "execute_result"
    }
   ],
   "source": [
    "s = df['Stars']\n",
    "pd.to_numeric(s)\n",
    "# convert type to all numerical"
   ]
  },
  {
   "cell_type": "code",
   "execution_count": 40,
   "id": "specialized-platform",
   "metadata": {},
   "outputs": [
    {
     "data": {
      "text/html": [
       "<div>\n",
       "<style scoped>\n",
       "    .dataframe tbody tr th:only-of-type {\n",
       "        vertical-align: middle;\n",
       "    }\n",
       "\n",
       "    .dataframe tbody tr th {\n",
       "        vertical-align: top;\n",
       "    }\n",
       "\n",
       "    .dataframe thead th {\n",
       "        text-align: right;\n",
       "    }\n",
       "</style>\n",
       "<table border=\"1\" class=\"dataframe\">\n",
       "  <thead>\n",
       "    <tr style=\"text-align: right;\">\n",
       "      <th></th>\n",
       "      <th>Review #</th>\n",
       "      <th>Brand</th>\n",
       "      <th>Variety</th>\n",
       "      <th>Style</th>\n",
       "      <th>Country</th>\n",
       "      <th>Stars</th>\n",
       "      <th>Top Ten</th>\n",
       "    </tr>\n",
       "  </thead>\n",
       "  <tbody>\n",
       "    <tr>\n",
       "      <th>0</th>\n",
       "      <td>2580</td>\n",
       "      <td>New Touch</td>\n",
       "      <td>T's Restaurant Tantanmen</td>\n",
       "      <td>Cup</td>\n",
       "      <td>Japan</td>\n",
       "      <td>3.75</td>\n",
       "      <td>NaN</td>\n",
       "    </tr>\n",
       "    <tr>\n",
       "      <th>1</th>\n",
       "      <td>2579</td>\n",
       "      <td>Just Way</td>\n",
       "      <td>Noodles Spicy Hot Sesame Spicy Hot Sesame Guan...</td>\n",
       "      <td>Pack</td>\n",
       "      <td>Taiwan</td>\n",
       "      <td>1.00</td>\n",
       "      <td>NaN</td>\n",
       "    </tr>\n",
       "    <tr>\n",
       "      <th>2</th>\n",
       "      <td>2578</td>\n",
       "      <td>Nissin</td>\n",
       "      <td>Cup Noodles Chicken Vegetable</td>\n",
       "      <td>Cup</td>\n",
       "      <td>USA</td>\n",
       "      <td>2.25</td>\n",
       "      <td>NaN</td>\n",
       "    </tr>\n",
       "    <tr>\n",
       "      <th>3</th>\n",
       "      <td>2577</td>\n",
       "      <td>Wei Lih</td>\n",
       "      <td>GGE Ramen Snack Tomato Flavor</td>\n",
       "      <td>Pack</td>\n",
       "      <td>Taiwan</td>\n",
       "      <td>2.75</td>\n",
       "      <td>NaN</td>\n",
       "    </tr>\n",
       "    <tr>\n",
       "      <th>4</th>\n",
       "      <td>2576</td>\n",
       "      <td>Ching's Secret</td>\n",
       "      <td>Singapore Curry</td>\n",
       "      <td>Pack</td>\n",
       "      <td>India</td>\n",
       "      <td>3.75</td>\n",
       "      <td>NaN</td>\n",
       "    </tr>\n",
       "  </tbody>\n",
       "</table>\n",
       "</div>"
      ],
      "text/plain": [
       "   Review #           Brand  \\\n",
       "0      2580       New Touch   \n",
       "1      2579        Just Way   \n",
       "2      2578          Nissin   \n",
       "3      2577         Wei Lih   \n",
       "4      2576  Ching's Secret   \n",
       "\n",
       "                                             Variety Style Country  Stars  \\\n",
       "0                          T's Restaurant Tantanmen    Cup   Japan   3.75   \n",
       "1  Noodles Spicy Hot Sesame Spicy Hot Sesame Guan...  Pack  Taiwan   1.00   \n",
       "2                      Cup Noodles Chicken Vegetable   Cup     USA   2.25   \n",
       "3                      GGE Ramen Snack Tomato Flavor  Pack  Taiwan   2.75   \n",
       "4                                    Singapore Curry  Pack   India   3.75   \n",
       "\n",
       "  Top Ten  \n",
       "0     NaN  \n",
       "1     NaN  \n",
       "2     NaN  \n",
       "3     NaN  \n",
       "4     NaN  "
      ]
     },
     "execution_count": 40,
     "metadata": {},
     "output_type": "execute_result"
    }
   ],
   "source": [
    "df.head(5)\n",
    "# take a look to my dataset"
   ]
  },
  {
   "cell_type": "code",
   "execution_count": 9,
   "id": "connected-minnesota",
   "metadata": {},
   "outputs": [],
   "source": [
    "#stats = df.groupby(\"Style\")[\"Stars\"].describe()\n",
    "\n",
    "#@ipywidgets.interact(style = plt.style.available)\n",
    "#def make_plot(style): # function!  its needs a colon!\n",
    "#    with plt.style.context(style):\n",
    "#        fig, ax = plt.subplots(1,1, figsize=(4,2))\n",
    "#        ax.plot(stats[\"max\"], marker='.', linewidth=1.0, label=\"Max\")\n",
    "#        ax.plot(stats[\"min\"], marker='.', linewidth=1.0, label=\"Min\")\n",
    "#        ax.set_label('Style')\n",
    "#        ax.set_ylabel(\"Stars\")\n",
    "#        ax.set_yscale(\"log\")\n",
    "#        ax.legend()\n",
    "#    plt.show()"
   ]
  },
  {
   "cell_type": "code",
   "execution_count": 71,
   "id": "novel-latex",
   "metadata": {},
   "outputs": [
    {
     "data": {
      "text/plain": [
       "<matplotlib.axes._subplots.AxesSubplot at 0x7fbe596dc590>"
      ]
     },
     "execution_count": 71,
     "metadata": {},
     "output_type": "execute_result"
    },
    {
     "data": {
      "image/png": "[encoded data removed]",
      "text/plain": [
       "<Figure size 1440x432 with 1 Axes>"
      ]
     },
     "metadata": {
      "needs_background": "light"
     },
     "output_type": "display_data"
    }
   ],
   "source": [
    "group = df.groupby('Style')\n",
    "df1 = group.agg(\"count\").reset_index()\n",
    "df1.plot(x = \"Style\", y=\"Review #\", figsize=(20,6), rot=90, kind='bar')\n",
    "# From part 1"
   ]
  },
  {
   "cell_type": "code",
   "execution_count": 27,
   "id": "persistent-desert",
   "metadata": {},
   "outputs": [],
   "source": [
    "group = df.groupby('Country')\n",
    "df2 = group.agg(\"count\").reset_index()"
   ]
  },
  {
   "cell_type": "code",
   "execution_count": 57,
   "id": "civic-chart",
   "metadata": {
    "scrolled": true
   },
   "outputs": [
    {
     "data": {
      "application/vnd.jupyter.widget-view+json": {
       "model_id": "4979c2d5974b41c0ab4d6c293b81bd67",
       "version_major": 2,
       "version_minor": 0
      },
      "text/plain": [
       "interactive(children=(Dropdown(description='x', options=('Brand', 'Style', 'Country', 'Stars'), value='Brand')…"
      ]
     },
     "metadata": {},
     "output_type": "display_data"
    }
   ],
   "source": [
    "@ipywidgets.interact(x = [\"Brand\", \"Style\", \"Country\", \"Stars\"],\n",
    "                    style = plt.style.available)\n",
    "def graph_builder(x,style):\n",
    "    with plt.style.context(style):\n",
    "        fig, ax = plt.subplots(1,1, figsize=(45,10))\n",
    "        group = df.groupby(x)\n",
    "        df1 = group.agg(\"count\").reset_index()\n",
    "        #df1.plot(x = x, y=\"Review #\", figsize=(30,10), rot=90, kind='bar')\n",
    "        plt.bar(df1[x],df1['Review #'])\n",
    "        for item in ([ax.title, ax.xaxis.label, ax.yaxis.label] +\n",
    "                     ax.get_xticklabels() + ax.get_yticklabels()):\n",
    "            item.set_fontsize(15)\n",
    "        plt.xticks(rotation=90)\n",
    "    plt.show()"
   ]
  },
  {
   "cell_type": "code",
   "execution_count": 60,
   "id": "phantom-tackle",
   "metadata": {
    "scrolled": false
   },
   "outputs": [
    {
     "data": {
      "application/vnd.jupyter.widget-view+json": {
       "model_id": "81b9e956b0eb4fb1af98acbfefea0e91",
       "version_major": 2,
       "version_minor": 0
      },
      "text/plain": [
       "interactive(children=(Dropdown(description='x', options=('Brand', 'Style', 'Country', 'Stars'), value='Brand')…"
      ]
     },
     "metadata": {},
     "output_type": "display_data"
    }
   ],
   "source": [
    "@ipywidgets.interact(x = [\"Brand\", \"Style\", \"Country\", \"Stars\"],\n",
    "                    style = plt.style.available)\n",
    "def graph_builder(x,style):\n",
    "    with plt.style.context(style):\n",
    "        fig, ax = plt.subplots(1,1, figsize=(45,10))\n",
    "        group = df.groupby(x)\n",
    "        df1 = group.agg(\"mean\").reset_index()\n",
    "        #df1.plot(x = x, y=\"Review #\", figsize=(30,10), rot=90, kind='bar')\n",
    "        plt.bar(df1[x],df1['Stars'])\n",
    "        for item in ([ax.title, ax.xaxis.label, ax.yaxis.label] +\n",
    "                     ax.get_xticklabels() + ax.get_yticklabels()):\n",
    "            item.set_fontsize(15)\n",
    "        plt.xticks(rotation=90)\n",
    "    plt.show()"
   ]
  },
  {
   "cell_type": "code",
   "execution_count": 23,
   "id": "rapid-career",
   "metadata": {},
   "outputs": [],
   "source": [
    "#button = ipywidgets.Button(description = \"I am a Clicker\")\n",
    "#def say_click(event):\n",
    "#    print(\"I have clicked. Click.\")\n",
    "#button.on_click(say_click)\n",
    "#button"
   ]
  },
  {
   "cell_type": "code",
   "execution_count": 59,
   "id": "animal-therapist",
   "metadata": {},
   "outputs": [],
   "source": [
    "#df2.plot(x = \"Country\", y=\"Review #\", figsize=(20,6), rot=90, kind='bar')"
   ]
  },
  {
   "cell_type": "code",
   "execution_count": 68,
   "id": "textile-shoulder",
   "metadata": {},
   "outputs": [
    {
     "data": {
      "application/vnd.jupyter.widget-view+json": {
       "model_id": "c1a27d1538b34db0aaaed72f55e98e6f",
       "version_major": 2,
       "version_minor": 0
      },
      "text/plain": [
       "interactive(children=(Dropdown(description='x', options=('Brand', 'Style', 'Country', 'Stars'), value='Brand')…"
      ]
     },
     "metadata": {},
     "output_type": "display_data"
    }
   ],
   "source": [
    "@ipywidgets.interact(x = [\"Brand\", \"Style\", \"Country\", \"Stars\"],\n",
    "                    style = plt.style.available)\n",
    "def graph_builder(x,style):\n",
    "    with plt.style.context(style):\n",
    "        fig, axes = plt.subplots(nrows=1, ncols=2, figsize=(45, 10))\n",
    "        #fig, ax = plt.subplots(1,1, figsize=(45,10))\n",
    "        group = df.groupby(x)\n",
    "        df1 = group.agg(\"count\").reset_index()\n",
    "        #df1.plot(x = x, y=\"Review #\", figsize=(30,10), rot=90, kind='bar')\n",
    "        axes[0].bar(df1[x],df1['Review #'])\n",
    "        axes[0].set_title('numbers of Review', fontsize=12)\n",
    "        df2 = group.agg(\"mean\").reset_index()\n",
    "        #df1.plot(x = x, y=\"Review #\", figsize=(30,10), rot=90, kind='bar')\n",
    "        axes[1].bar(df2[x],df2['Stars'])\n",
    "        axes[1].set_title('mean of stars', fontsize=12)\n",
    "        #for item in ([axes.title, axes.xaxis.label, axes.yaxis.label] +\n",
    "         #            axes.get_xticklabels() + axes.get_yticklabels()):\n",
    "         #   item.set_fontsize(15)\n",
    "        #axes[0].xticks(rotation=90)\n",
    "    plt.show()"
   ]
  },
  {
   "cell_type": "code",
   "execution_count": null,
   "id": "tender-birthday",
   "metadata": {},
   "outputs": [],
   "source": []
  }
 ],
 "metadata": {
  "kernelspec": {
   "display_name": "Python 3",
   "language": "python",
   "name": "python3"
  },
  "language_info": {
   "codemirror_mode": {
    "name": "ipython",
    "version": 3
   },
   "file_extension": ".py",
   "mimetype": "text/x-python",
   "name": "python",
   "nbconvert_exporter": "python",
   "pygments_lexer": "ipython3",
   "version": "3.7.9"
  }
 },
 "nbformat": 4,
 "nbformat_minor": 5
}
