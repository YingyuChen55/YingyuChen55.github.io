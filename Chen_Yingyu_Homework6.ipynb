{
 "cells": [
  {
   "cell_type": "code",
   "execution_count": 204,
   "id": "assured-conjunction",
   "metadata": {},
   "outputs": [],
   "source": [
    "import pandas as pd\n",
    "import bqplot\n",
    "import numpy as np\n",
    "import traitlets\n",
    "import ipywidgets\n",
    "import matplotlib.pyplot as plt\n",
    "%matplotlib inline"
   ]
  },
  {
   "cell_type": "code",
   "execution_count": 205,
   "id": "welsh-namibia",
   "metadata": {},
   "outputs": [],
   "source": [
    "df = pd.read_csv('building_inventory.csv',\n",
    "                 na_values = {'Square Footage': 0,\n",
    "                       'Year Acquired': 0,\n",
    "                       'Year Constructed': 0})"
   ]
  },
  {
   "cell_type": "code",
   "execution_count": null,
   "id": "private-editing",
   "metadata": {},
   "outputs": [],
   "source": [
    "xl = df['Year Acquired'].values\n",
    "yl = df['Square Footage'].values\n",
    "\n",
    "x = df['cd']\n",
    "y = df['An']\n",
    "z = df['Square Footage']\n",
    "\n",
    "xnames = x.unique()\n",
    "ynames = y.unique()\n",
    "znames = np.zeros([len(xnames),len(ynames)])\n",
    "\n",
    "for i,xn in enumerate(xnames):\n",
    "    for j,yn in enumerate(ynames):\n",
    "        mask = (x == xn) & (y == yn)\n",
    "        znames[i,j] = z[mask].sum()\n",
    "znames_log = np.log10(znames)\n",
    "znames_log[znames==0] = 0"
   ]
  },
  {
   "cell_type": "code",
   "execution_count": 226,
   "id": "inclusive-brazilian",
   "metadata": {},
   "outputs": [
    {
     "data": {
      "application/vnd.jupyter.widget-view+json": {
       "model_id": "07f11a17b6d84600b3041a134b837bbe",
       "version_major": 2,
       "version_minor": 0
      },
      "text/plain": [
       "Figure(axes=[Axis(label='total square footage acquired', orientation='vertical', scale=LinearScale(), side='le…"
      ]
     },
     "metadata": {},
     "output_type": "display_data"
    }
   ],
   "source": [
    "# 2. Scales\n",
    "x_scl = bqplot.LinearScale()\n",
    "y_scl = bqplot.LinearScale()\n",
    "\n",
    "# 3. Axis\n",
    "x_ax = bqplot.Axis(label='Year Constructed',scale = x_scl)\n",
    "y_ax = bqplot.Axis(label='total square footage acquired', scale=y_scl,\n",
    "                   orientation='vertical',side='left')\n",
    "\n",
    "xl = df['Year Constructed'].values\n",
    "yl = df['Square Footage'].values\n",
    "# 4. Marks\n",
    "i,j = 0,0\n",
    "mask = (x.values == xnames[i] & (y.values == ynames[j]))\n",
    "year = xl[mask]\n",
    "sq = yl[mask]\n",
    "\n",
    "#sq = sq[-pd.isnunll(year)]\n",
    "#year = year[-pd.isnull(year)]\n",
    "\n",
    "years = np.unique(year)\n",
    "squ = [sq[year == years[i]].sum() for i in range(len(years))]\n",
    "\n",
    "lines = bqplot.Lines(x = years, y = squ,\n",
    "                    scales = {'x':x_scl, 'y':y_scl})\n",
    "\n",
    "fig_lines = bqplot.Figure(marks = [lines], axes = [y_ax,x_ax])\n",
    "\n",
    "fig_lines"
   ]
  },
  {
   "cell_type": "code",
   "execution_count": 227,
   "id": "cubic-providence",
   "metadata": {},
   "outputs": [],
   "source": [
    "heatmap_matrix = pd.pivot_table(df,\n",
    "                                index=['cd'],\n",
    "                                values=['Square Footage'],\n",
    "                                columns=['An'],\n",
    "                                aggfunc=np.sum)"
   ]
  },
  {
   "cell_type": "code",
   "execution_count": 228,
   "id": "psychological-advertiser",
   "metadata": {},
   "outputs": [],
   "source": [
    "an = heatmap_matrix.columns.levels[1].to_list()"
   ]
  },
  {
   "cell_type": "code",
   "execution_count": 229,
   "id": "personal-capital",
   "metadata": {},
   "outputs": [],
   "source": [
    "col_sc = bqplot.ColorScale(scheme='RdPu')\n",
    "x_sc = bqplot.OrdinalScale()\n",
    "y_sc = bqplot.OrdinalScale()"
   ]
  },
  {
   "cell_type": "code",
   "execution_count": 230,
   "id": "expensive-captain",
   "metadata": {},
   "outputs": [],
   "source": [
    "heatmap = bqplot.GridHeatMap(color = np.log10(heatmap_matrix.values),\n",
    "                            row = heatmap_matrix.index,\n",
    "                            column = an,\n",
    "                            scales = {'color': col_sc,\n",
    "                                     'row': y_sc,\n",
    "                                     'column': x_sc})"
   ]
  },
  {
   "cell_type": "code",
   "execution_count": 231,
   "id": "animated-volleyball",
   "metadata": {},
   "outputs": [
    {
     "data": {
      "application/vnd.jupyter.widget-view+json": {
       "model_id": "9df5c83d6dfc4a06a1732631bfc90187",
       "version_major": 2,
       "version_minor": 0
      },
      "text/plain": [
       "Figure(axes=[Axis(label='Year Constructed', scale=LinearScale(), side='bottom'), Axis(label='total square foot…"
      ]
     },
     "metadata": {},
     "output_type": "display_data"
    }
   ],
   "source": [
    "fig = bqplot.Figure(marks = [heatmap], axes = [x_ax, y_ax, x_ax])\n",
    "fig"
   ]
  },
  {
   "cell_type": "code",
   "execution_count": 242,
   "id": "amber-gilbert",
   "metadata": {},
   "outputs": [
    {
     "data": {
      "application/vnd.jupyter.widget-view+json": {
       "model_id": "4de6492211844b819db9e5d5a5dda0b4",
       "version_major": 2,
       "version_minor": 0
      },
      "text/plain": [
       "HBox(children=(Figure(axes=[Axis(label='Year Constructed', scale=LinearScale(), side='bottom'), Axis(label='to…"
      ]
     },
     "metadata": {},
     "output_type": "display_data"
    }
   ],
   "source": [
    "def get_data_value(change):\n",
    "    i,j = change['owner'].selected[0]\n",
    "    mask = (x.values == xnames[i] & (y.values == ynames[j]))\n",
    "    year = xl[mask]\n",
    "    sq = yl[mask]\n",
    "    \n",
    "    years = np.unique(year)\n",
    "    squ = [sq[year == years[b]].sum() for b in range(len(years))]\n",
    "    \n",
    "    lines.x = years\n",
    "    lines.y = squ\n",
    "\n",
    "heatmap.observe(get_data_value, 'selected')\n",
    "\n",
    "fig.layout.max_width = '1000px'\n",
    "fig.layout.max_height = '1000px'\n",
    "fig.layout.min_width = '500px'\n",
    "fig_lines.layout.min_width = '500px'\n",
    "fig.layout.align_items\n",
    "\n",
    "ipywidgets.HBox([fig, fig_lines])"
   ]
  },
  {
   "cell_type": "code",
   "execution_count": null,
   "id": "outer-juvenile",
   "metadata": {},
   "outputs": [],
   "source": []
  }
 ],
 "metadata": {
  "kernelspec": {
   "display_name": "Python 3",
   "language": "python",
   "name": "python3"
  },
  "language_info": {
   "codemirror_mode": {
    "name": "ipython",
    "version": 3
   },
   "file_extension": ".py",
   "mimetype": "text/x-python",
   "name": "python",
   "nbconvert_exporter": "python",
   "pygments_lexer": "ipython3",
   "version": "3.7.9"
  }
 },
 "nbformat": 4,
 "nbformat_minor": 5
}
